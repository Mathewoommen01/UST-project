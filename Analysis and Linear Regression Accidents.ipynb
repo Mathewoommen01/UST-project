{
 "cells": [
  {
   "cell_type": "code",
   "execution_count": 23,
   "metadata": {},
   "outputs": [],
   "source": [
    "import pandas as pd\n",
    "import numpy as np\n",
    "from sklearn.model_selection import train_test_split\n",
    "from sklearn.linear_model import LogisticRegression\n",
    "from sklearn.preprocessing import LabelEncoder\n",
    "from sklearn.metrics import accuracy_score\n",
    "from sklearn.metrics import accuracy_score, confusion_matrix\n",
    "from sklearn.metrics import accuracy_score, roc_curve, roc_auc_score\n",
    "from sklearn.metrics import accuracy_score, precision_score, recall_score, f1_score\n",
    "from sklearn.linear_model import LinearRegression\n",
    "import matplotlib.pyplot as plt\n",
    "import seaborn as sns"
   ]
  },
  {
   "cell_type": "code",
   "execution_count": 3,
   "metadata": {},
   "outputs": [
    {
     "name": "stdout",
     "output_type": "stream",
     "text": [
      "         Seasons  Total Accidents_seasons  People Killed_seasons     Zones  \\\n",
      "0    Pre-Monsoon                    13313                   1542  Northern   \n",
      "1        Monsoon                    12826                   1322   Central   \n",
      "2   Post-Monsoon                    13281                   1423  Southern   \n",
      "3    Pre-Monsoon                    12979                   1423  Northern   \n",
      "4        Monsoon                    12268                   1323   Central   \n",
      "5   Post-Monsoon                    13233                   1385  Southern   \n",
      "6    Pre-Monsoon                    13799                   1568  Northern   \n",
      "7        Monsoon                    12441                   1263   Central   \n",
      "8   Post-Monsoon                    13941                   1472  Southern   \n",
      "9    Pre-Monsoon                    14257                   1668  Northern   \n",
      "10       Monsoon                    12608                   1271   Central   \n",
      "11  Post-Monsoon                    14246                   1501  Southern   \n",
      "12   Pre-Monsoon                     8392                    868  Northern   \n",
      "13       Monsoon                     7572                    806   Central   \n",
      "14  Post-Monsoon                    11893                   1305  Southern   \n",
      "15   Pre-Monsoon                    11089                   1166  Northern   \n",
      "16       Monsoon                     8788                    912   Central   \n",
      "17  Post-Monsoon                    13419                   1351  Southern   \n",
      "18   Pre-Monsoon                    14446                   1549  Northern   \n",
      "19       Monsoon                    13962                   1329   Central   \n",
      "20  Post-Monsoon                    15502                   1439  Southern   \n",
      "\n",
      "    Total Accidents_zones  People Killed_zones             Roads  \\\n",
      "0                   16989                 2221     State Highway   \n",
      "1                   15656                 1322  National Highway   \n",
      "2                    6775                  744        Other Road   \n",
      "3                   17051                 2139     State Highway   \n",
      "4                   14844                 1239  National Highway   \n",
      "5                    6575                  753        Other Road   \n",
      "6                   18129                 1905     State Highway   \n",
      "7                   15237                 1621  National Highway   \n",
      "8                    6815                  777        Other Road   \n",
      "9                   18062                 1953     State Highway   \n",
      "10                  15725                 1666  National Highway   \n",
      "11                   7324                  821        Other Road   \n",
      "12                  12717                 1325     State Highway   \n",
      "13                  10286                 1123  National Highway   \n",
      "14                   4874                  531        Other Road   \n",
      "15                  14451                 1482     State Highway   \n",
      "16                  12445                 1349  National Highway   \n",
      "17                   6400                  598        Other Road   \n",
      "18                  18344                 1920     State Highway   \n",
      "19                  16723                 1590  National Highway   \n",
      "20                   8843                  807        Other Road   \n",
      "\n",
      "    Total Accidents_roads  People Killed_roads          Time  \\\n",
      "0                    9209                 1263           Day   \n",
      "1                    7135                  885         Night   \n",
      "2                   23076                 2139  Unknown time   \n",
      "3                    8993                 1309           Day   \n",
      "4                    7044                  837         Night   \n",
      "5                   22433                 1985  Unknown time   \n",
      "6                    9161                 1248           Day   \n",
      "7                    7552                  876         Night   \n",
      "8                   23468                 2179  Unknown time   \n",
      "9                    8097                  979           Day   \n",
      "10                   9001                 1216         Night   \n",
      "11                  24013                 2245  Unknown time   \n",
      "12                   5876                  629           Day   \n",
      "13                   6247                  849         Night   \n",
      "14                  15754                 1501  Unknown time   \n",
      "15                   8048                  975           Day   \n",
      "16                   7290                  768         Night   \n",
      "17                  17958                 1686  Unknown time   \n",
      "18                   9756                 1129           Day   \n",
      "19                   9441                  986         Night   \n",
      "20                  24893                 2202  Unknown time   \n",
      "\n",
      "    Total Accidents_time  People Killed_time  Year_2016  Year_2017  Year_2018  \\\n",
      "0                  28336                2599          1          0          0   \n",
      "1                  10927                1639          1          0          0   \n",
      "2                    157                  49          1          0          0   \n",
      "3                  27303                2437          0          1          0   \n",
      "4                  10960                1618          0          1          0   \n",
      "5                    207                  47          0          1          0   \n",
      "6                   8072               26263          0          0          1   \n",
      "7                   8072               13856          0          0          1   \n",
      "8                     62                   9          0          0          1   \n",
      "9                  27095                2493          0          0          0   \n",
      "10                 13947                1936          0          0          0   \n",
      "11                    69                  11          0          0          0   \n",
      "12                  8080               18612          0          0          0   \n",
      "13                  8080                9222          0          0          0   \n",
      "14                    43                   7          0          0          0   \n",
      "15                 21903                1812          0          0          0   \n",
      "16                 11339                1604          0          0          0   \n",
      "17                    54                  13          0          0          0   \n",
      "18                 28444                2346          0          0          0   \n",
      "19                 15271                1957          0          0          0   \n",
      "20                   195                  14          0          0          0   \n",
      "\n",
      "    Year_2019  Year_2020  Year_2021  Year_2022  \n",
      "0           0          0          0          0  \n",
      "1           0          0          0          0  \n",
      "2           0          0          0          0  \n",
      "3           0          0          0          0  \n",
      "4           0          0          0          0  \n",
      "5           0          0          0          0  \n",
      "6           0          0          0          0  \n",
      "7           0          0          0          0  \n",
      "8           0          0          0          0  \n",
      "9           1          0          0          0  \n",
      "10          1          0          0          0  \n",
      "11          1          0          0          0  \n",
      "12          0          1          0          0  \n",
      "13          0          1          0          0  \n",
      "14          0          1          0          0  \n",
      "15          0          0          1          0  \n",
      "16          0          0          1          0  \n",
      "17          0          0          1          0  \n",
      "18          0          0          0          1  \n",
      "19          0          0          0          1  \n",
      "20          0          0          0          1  \n"
     ]
    }
   ],
   "source": [
    "data = pd.read_excel(r'C:\\Users\\253933\\Downloads\\output2.xlsx')\n",
    "print(data)"
   ]
  },
  {
   "cell_type": "code",
   "execution_count": 5,
   "metadata": {},
   "outputs": [],
   "source": [
    "pre_monsoon_data = data[data['Seasons'] == 'Pre-Monsoon']\n",
    "monsoon_data = data[data['Seasons'] == 'Monsoon']\n",
    "post_monsoon_data = data[data['Seasons'] == 'Post-Monsoon']"
   ]
  },
  {
   "cell_type": "code",
   "execution_count": 6,
   "metadata": {},
   "outputs": [],
   "source": [
    "pre_monsoon_accidents_mean = pre_monsoon_data['Total Accidents_seasons'].mean()\n",
    "pre_monsoon_killed_mean = pre_monsoon_data['People Killed_seasons'].mean()\n",
    "\n",
    "monsoon_accidents_mean = monsoon_data['Total Accidents_seasons'].mean()\n",
    "monsoon_killed_mean = monsoon_data['People Killed_seasons'].mean()\n",
    "\n",
    "post_monsoon_accidents_mean = post_monsoon_data['Total Accidents_seasons'].mean()\n",
    "post_monsoon_killed_mean = post_monsoon_data['People Killed_seasons'].mean()"
   ]
  },
  {
   "cell_type": "code",
   "execution_count": 7,
   "metadata": {},
   "outputs": [
    {
     "data": {
      "image/png": "[encoded data removed]",
      "text/plain": [
       "<Figure size 432x288 with 1 Axes>"
      ]
     },
     "metadata": {
      "needs_background": "light"
     },
     "output_type": "display_data"
    },
    {
     "data": {
      "image/png": "[encoded data removed]",
      "text/plain": [
       "<Figure size 432x288 with 1 Axes>"
      ]
     },
     "metadata": {
      "needs_background": "light"
     },
     "output_type": "display_data"
    }
   ],
   "source": [
    "seasons = ['Pre-Monsoon', 'Monsoon', 'Post-Monsoon']\n",
    "accidents_means = [pre_monsoon_accidents_mean, monsoon_accidents_mean, post_monsoon_accidents_mean]\n",
    "killed_means = [pre_monsoon_killed_mean, monsoon_killed_mean, post_monsoon_killed_mean]\n",
    "\n",
    "# Plotting bar chart for average number of accidents\n",
    "plt.bar(seasons, accidents_means)\n",
    "plt.xlabel('Seasons')\n",
    "plt.ylabel('Average Total Accidents')\n",
    "plt.title('Seasonal Analysis: Average Total Accidents by Season')\n",
    "plt.show()\n",
    "\n",
    "# Plotting bar chart for average number of fatalities\n",
    "plt.bar(seasons, killed_means)\n",
    "plt.xlabel('Seasons')\n",
    "plt.ylabel('Average People Killed')\n",
    "plt.title('Seasonal Analysis: Average People Killed by Season')\n",
    "plt.show()"
   ]
  },
  {
   "cell_type": "markdown",
   "metadata": {},
   "source": [
    "### Trend Analysis"
   ]
  },
  {
   "cell_type": "code",
   "execution_count": 18,
   "metadata": {},
   "outputs": [
    {
     "name": "stdout",
     "output_type": "stream",
     "text": [
      "    Years       Seasons  Total Accidents_seasons  People Killed_seasons  \\\n",
      "0    2016   Pre-Monsoon                    13313                   1542   \n",
      "1    2016       Monsoon                    12826                   1322   \n",
      "2    2016  Post-Monsoon                    13281                   1423   \n",
      "3    2017   Pre-Monsoon                    12979                   1423   \n",
      "4    2017       Monsoon                    12268                   1323   \n",
      "5    2017  Post-Monsoon                    13233                   1385   \n",
      "6    2018   Pre-Monsoon                    13799                   1568   \n",
      "7    2018       Monsoon                    12441                   1263   \n",
      "8    2018  Post-Monsoon                    13941                   1472   \n",
      "9    2019   Pre-Monsoon                    14257                   1668   \n",
      "10   2019       Monsoon                    12608                   1271   \n",
      "11   2019  Post-Monsoon                    14246                   1501   \n",
      "12   2020   Pre-Monsoon                     8392                    868   \n",
      "13   2020       Monsoon                     7572                    806   \n",
      "14   2020  Post-Monsoon                    11893                   1305   \n",
      "15   2021   Pre-Monsoon                    11089                   1166   \n",
      "16   2021       Monsoon                     8788                    912   \n",
      "17   2021  Post-Monsoon                    13419                   1351   \n",
      "18   2022   Pre-Monsoon                    14446                   1549   \n",
      "19   2022       Monsoon                    13962                   1329   \n",
      "20   2022  Post-Monsoon                    15502                   1439   \n",
      "\n",
      "       Zones  Total Accidents_zones  People Killed_zones             Roads  \\\n",
      "0   Northern                  16989                 2221     State Highway   \n",
      "1    Central                  15656                 1322  National Highway   \n",
      "2   Southern                   6775                  744        Other Road   \n",
      "3   Northern                  17051                 2139     State Highway   \n",
      "4    Central                  14844                 1239  National Highway   \n",
      "5   Southern                   6575                  753        Other Road   \n",
      "6   Northern                  18129                 1905     State Highway   \n",
      "7    Central                  15237                 1621  National Highway   \n",
      "8   Southern                   6815                  777        Other Road   \n",
      "9   Northern                  18062                 1953     State Highway   \n",
      "10   Central                  15725                 1666  National Highway   \n",
      "11  Southern                   7324                  821        Other Road   \n",
      "12  Northern                  12717                 1325     State Highway   \n",
      "13   Central                  10286                 1123  National Highway   \n",
      "14  Southern                   4874                  531        Other Road   \n",
      "15  Northern                  14451                 1482     State Highway   \n",
      "16   Central                  12445                 1349  National Highway   \n",
      "17  Southern                   6400                  598        Other Road   \n",
      "18  Northern                  18344                 1920     State Highway   \n",
      "19   Central                  16723                 1590  National Highway   \n",
      "20  Southern                   8843                  807        Other Road   \n",
      "\n",
      "    Total Accidents_roads  People Killed_roads          Time  \\\n",
      "0                    9209                 1263           Day   \n",
      "1                    7135                  885         Night   \n",
      "2                   23076                 2139  Unknown time   \n",
      "3                    8993                 1309           Day   \n",
      "4                    7044                  837         Night   \n",
      "5                   22433                 1985  Unknown time   \n",
      "6                    9161                 1248           Day   \n",
      "7                    7552                  876         Night   \n",
      "8                   23468                 2179  Unknown time   \n",
      "9                    8097                  979           Day   \n",
      "10                   9001                 1216         Night   \n",
      "11                  24013                 2245  Unknown time   \n",
      "12                   5876                  629           Day   \n",
      "13                   6247                  849         Night   \n",
      "14                  15754                 1501  Unknown time   \n",
      "15                   8048                  975           Day   \n",
      "16                   7290                  768         Night   \n",
      "17                  17958                 1686  Unknown time   \n",
      "18                   9756                 1129           Day   \n",
      "19                   9441                  986         Night   \n",
      "20                  24893                 2202  Unknown time   \n",
      "\n",
      "    Total Accidents_time  People Killed_time  \n",
      "0                  28336                2599  \n",
      "1                  10927                1639  \n",
      "2                    157                  49  \n",
      "3                  27303                2437  \n",
      "4                  10960                1618  \n",
      "5                    207                  47  \n",
      "6                   8072               26263  \n",
      "7                   8072               13856  \n",
      "8                     62                   9  \n",
      "9                  27095                2493  \n",
      "10                 13947                1936  \n",
      "11                    69                  11  \n",
      "12                  8080               18612  \n",
      "13                  8080                9222  \n",
      "14                    43                   7  \n",
      "15                 21903                1812  \n",
      "16                 11339                1604  \n",
      "17                    54                  13  \n",
      "18                 28444                2346  \n",
      "19                 15271                1957  \n",
      "20                   195                  14  \n"
     ]
    }
   ],
   "source": [
    "data = pd.read_excel(r'C:\\Users\\253933\\Downloads\\Accidents.xlsx', sheet_name='Sheet3')\n",
    "print(data)"
   ]
  },
  {
   "cell_type": "code",
   "execution_count": 19,
   "metadata": {},
   "outputs": [],
   "source": [
    "# Extract the relevant columns for trend analysis\n",
    "trend_data = data[['Years', 'Total Accidents_seasons', 'People Killed_seasons']]"
   ]
  },
  {
   "cell_type": "code",
   "execution_count": 20,
   "metadata": {},
   "outputs": [
    {
     "data": {
      "image/png": "[encoded data removed]",
      "text/plain": [
       "<Figure size 432x288 with 1 Axes>"
      ]
     },
     "metadata": {
      "needs_background": "light"
     },
     "output_type": "display_data"
    },
    {
     "data": {
      "image/png": "[encoded data removed]",
      "text/plain": [
       "<Figure size 432x288 with 1 Axes>"
      ]
     },
     "metadata": {
      "needs_background": "light"
     },
     "output_type": "display_data"
    }
   ],
   "source": [
    "# Create a line plot for total accidents\n",
    "plt.plot(trend_data['Years'], trend_data['Total Accidents_seasons'], marker='o')\n",
    "plt.xlabel('Years')\n",
    "plt.ylabel('Total Accidents')\n",
    "plt.title('Trend Analysis: Total Accidents across Seasons')\n",
    "plt.grid(True)\n",
    "plt.show()\n",
    "\n",
    "# Create a line plot for people killed\n",
    "plt.plot(trend_data['Years'], trend_data['People Killed_seasons'], marker='o')\n",
    "plt.xlabel('Years')\n",
    "plt.ylabel('People Killed')\n",
    "plt.title('Trend Analysis: People Killed across Seasons')\n",
    "plt.grid(True)\n",
    "plt.show()"
   ]
  },
  {
   "cell_type": "code",
   "execution_count": 16,
   "metadata": {},
   "outputs": [],
   "source": [
    "# Extract the relevant columns for trend analysis\n",
    "trend_data = data[['Seasons', 'Total Accidents_seasons', 'People Killed_seasons']]\n",
    "\n",
    "# Group the data by seasons and calculate the sum of total accidents and people killed\n",
    "trend_data = trend_data.groupby('Seasons').sum().reset_index()\n"
   ]
  },
  {
   "cell_type": "code",
   "execution_count": 17,
   "metadata": {},
   "outputs": [
    {
     "data": {
      "image/png": "[encoded data removed]",
      "text/plain": [
       "<Figure size 432x288 with 1 Axes>"
      ]
     },
     "metadata": {
      "needs_background": "light"
     },
     "output_type": "display_data"
    },
    {
     "data": {
      "image/png": "[encoded data removed]",
      "text/plain": [
       "<Figure size 432x288 with 1 Axes>"
      ]
     },
     "metadata": {
      "needs_background": "light"
     },
     "output_type": "display_data"
    }
   ],
   "source": [
    "# Create a line plot for total accidents\n",
    "plt.plot(trend_data['Seasons'], trend_data['Total Accidents_seasons'], marker='o')\n",
    "plt.xlabel('Seasons')\n",
    "plt.ylabel('Total Accidents')\n",
    "plt.title('Trend Analysis: Total Accidents across Seasons')\n",
    "plt.grid(True)\n",
    "plt.show()\n",
    "\n",
    "# Create a line plot for people killed\n",
    "plt.plot(trend_data['Seasons'], trend_data['People Killed_seasons'], marker='o')\n",
    "plt.xlabel('Seasons')\n",
    "plt.ylabel('People Killed')\n",
    "plt.title('Trend Analysis: People Killed across Seasons')\n",
    "plt.grid(True)\n",
    "plt.show()"
   ]
  },
  {
   "cell_type": "markdown",
   "metadata": {},
   "source": [
    "## Linear Regression"
   ]
  },
  {
   "cell_type": "code",
   "execution_count": 86,
   "metadata": {},
   "outputs": [
    {
     "name": "stdout",
     "output_type": "stream",
     "text": [
      "    Years       Seasons  Total Accidents_seasons  People Killed_seasons  \\\n",
      "0    2016   Pre-Monsoon                    13313                   1542   \n",
      "1    2016       Monsoon                    12826                   1322   \n",
      "2    2016  Post-Monsoon                    13281                   1423   \n",
      "3    2017   Pre-Monsoon                    12979                   1423   \n",
      "4    2017       Monsoon                    12268                   1323   \n",
      "5    2017  Post-Monsoon                    13233                   1385   \n",
      "6    2018   Pre-Monsoon                    13799                   1568   \n",
      "7    2018       Monsoon                    12441                   1263   \n",
      "8    2018  Post-Monsoon                    13941                   1472   \n",
      "9    2019   Pre-Monsoon                    14257                   1668   \n",
      "10   2019       Monsoon                    12608                   1271   \n",
      "11   2019  Post-Monsoon                    14246                   1501   \n",
      "12   2020   Pre-Monsoon                     8392                    868   \n",
      "13   2020       Monsoon                     7572                    806   \n",
      "14   2020  Post-Monsoon                    11893                   1305   \n",
      "15   2021   Pre-Monsoon                    11089                   1166   \n",
      "16   2021       Monsoon                     8788                    912   \n",
      "17   2021  Post-Monsoon                    13419                   1351   \n",
      "18   2022   Pre-Monsoon                    14446                   1549   \n",
      "19   2022       Monsoon                    13962                   1329   \n",
      "20   2022  Post-Monsoon                    15502                   1439   \n",
      "\n",
      "       Zones  Total Accidents_zones  People Killed_zones             Roads  \\\n",
      "0   Northern                  16989                 2221     State Highway   \n",
      "1    Central                  15656                 1322  National Highway   \n",
      "2   Southern                   6775                  744        Other Road   \n",
      "3   Northern                  17051                 2139     State Highway   \n",
      "4    Central                  14844                 1239  National Highway   \n",
      "5   Southern                   6575                  753        Other Road   \n",
      "6   Northern                  18129                 1905     State Highway   \n",
      "7    Central                  15237                 1621  National Highway   \n",
      "8   Southern                   6815                  777        Other Road   \n",
      "9   Northern                  18062                 1953     State Highway   \n",
      "10   Central                  15725                 1666  National Highway   \n",
      "11  Southern                   7324                  821        Other Road   \n",
      "12  Northern                  12717                 1325     State Highway   \n",
      "13   Central                  10286                 1123  National Highway   \n",
      "14  Southern                   4874                  531        Other Road   \n",
      "15  Northern                  14451                 1482     State Highway   \n",
      "16   Central                  12445                 1349  National Highway   \n",
      "17  Southern                   6400                  598        Other Road   \n",
      "18  Northern                  18344                 1920     State Highway   \n",
      "19   Central                  16723                 1590  National Highway   \n",
      "20  Southern                   8843                  807        Other Road   \n",
      "\n",
      "    Total Accidents_roads  People Killed_roads          Time  \\\n",
      "0                    9209                 1263           Day   \n",
      "1                    7135                  885         Night   \n",
      "2                   23076                 2139  Unknown time   \n",
      "3                    8993                 1309           Day   \n",
      "4                    7044                  837         Night   \n",
      "5                   22433                 1985  Unknown time   \n",
      "6                    9161                 1248           Day   \n",
      "7                    7552                  876         Night   \n",
      "8                   23468                 2179  Unknown time   \n",
      "9                    8097                  979           Day   \n",
      "10                   9001                 1216         Night   \n",
      "11                  24013                 2245  Unknown time   \n",
      "12                   5876                  629           Day   \n",
      "13                   6247                  849         Night   \n",
      "14                  15754                 1501  Unknown time   \n",
      "15                   8048                  975           Day   \n",
      "16                   7290                  768         Night   \n",
      "17                  17958                 1686  Unknown time   \n",
      "18                   9756                 1129           Day   \n",
      "19                   9441                  986         Night   \n",
      "20                  24893                 2202  Unknown time   \n",
      "\n",
      "    Total Accidents_time  People Killed_time  \n",
      "0                  28336                2599  \n",
      "1                  10927                1639  \n",
      "2                    157                  49  \n",
      "3                  27303                2437  \n",
      "4                  10960                1618  \n",
      "5                    207                  47  \n",
      "6                   8072               26263  \n",
      "7                   8072               13856  \n",
      "8                     62                   9  \n",
      "9                  27095                2493  \n",
      "10                 13947                1936  \n",
      "11                    69                  11  \n",
      "12                  8080               18612  \n",
      "13                  8080                9222  \n",
      "14                    43                   7  \n",
      "15                 21903                1812  \n",
      "16                 11339                1604  \n",
      "17                    54                  13  \n",
      "18                 28444                2346  \n",
      "19                 15271                1957  \n",
      "20                   195                  14  \n"
     ]
    }
   ],
   "source": [
    "df = pd.read_excel(r'C:\\Users\\253933\\Downloads\\Accidents.xlsx', sheet_name='Sheet3')\n",
    "print(df)"
   ]
  },
  {
   "cell_type": "markdown",
   "metadata": {},
   "source": [
    "### Seasons"
   ]
  },
  {
   "cell_type": "code",
   "execution_count": 41,
   "metadata": {},
   "outputs": [],
   "source": [
    "# Split the dataset into independent and dependent variables\n",
    "X = df['Years'].values.reshape(-1, 1)  # Independent variable: Years\n",
    "y_accidents = df['Total Accidents_seasons'].values  # Dependent variable: Total Accidents_seasons\n",
    "y_killed = df['People Killed_seasons'].values  # Dependent variable: People Killed_seasons\n",
    "\n",
    "# Split the data into training and testing sets\n",
    "X_train, X_test, y_accidents_train, y_accidents_test, y_killed_train, y_killed_test = train_test_split(\n",
    "    X, y_accidents, y_killed, test_size=0.2, random_state=42)"
   ]
  },
  {
   "cell_type": "code",
   "execution_count": 24,
   "metadata": {},
   "outputs": [
    {
     "data": {
      "text/plain": [
       "LinearRegression(copy_X=True, fit_intercept=True, n_jobs=1, normalize=False)"
      ]
     },
     "execution_count": 24,
     "metadata": {},
     "output_type": "execute_result"
    }
   ],
   "source": [
    "# Create linear regression models\n",
    "accidents_model = LinearRegression()\n",
    "killed_model = LinearRegression()\n",
    "\n",
    "# Train the models\n",
    "accidents_model.fit(X_train, y_accidents_train)\n",
    "killed_model.fit(X_train, y_killed_train)"
   ]
  },
  {
   "cell_type": "code",
   "execution_count": 25,
   "metadata": {},
   "outputs": [],
   "source": [
    "# Make predictions\n",
    "accidents_predictions = accidents_model.predict(X_test)\n",
    "killed_predictions = killed_model.predict(X_test)"
   ]
  },
  {
   "cell_type": "code",
   "execution_count": 26,
   "metadata": {},
   "outputs": [
    {
     "name": "stdout",
     "output_type": "stream",
     "text": [
      "Mean Squared Error (Total Accidents_seasons): 1024719.3770326417\n",
      "Mean Squared Error (People Killed_seasons): 11747.689041695636\n"
     ]
    }
   ],
   "source": [
    "from sklearn.metrics import mean_squared_error\n",
    "\n",
    "# Calculate mean squared error\n",
    "accidents_mse = mean_squared_error(y_accidents_test, accidents_predictions)\n",
    "killed_mse = mean_squared_error(y_killed_test, killed_predictions)\n",
    "\n",
    "# Print the mean squared error\n",
    "print('Mean Squared Error (Total Accidents_seasons):', accidents_mse)\n",
    "print('Mean Squared Error (People Killed_seasons):', killed_mse)"
   ]
  },
  {
   "cell_type": "code",
   "execution_count": 28,
   "metadata": {},
   "outputs": [
    {
     "name": "stdout",
     "output_type": "stream",
     "text": [
      "   Years  Total Accidents_seasons  People Killed_seasons\n",
      "0   2023             12255.077519            1209.741971\n",
      "1   2024             12196.294574            1182.248062\n",
      "2   2025             12137.511628            1154.754153\n",
      "3   2026             12078.728682            1127.260244\n",
      "4   2027             12019.945736            1099.766334\n",
      "5   2028             11961.162791            1072.272425\n",
      "6   2029             11902.379845            1044.778516\n",
      "7   2030             11843.596899            1017.284607\n",
      "8   2031             11784.813953             989.790698\n",
      "9   2032             11726.031008             962.296788\n"
     ]
    }
   ],
   "source": [
    "# Create an array of future years\n",
    "future_years = np.array(range(2023, 2033)).reshape(-1, 1)\n",
    "\n",
    "# Make predictions for the future years\n",
    "future_accidents_predictions = accidents_model.predict(future_years)\n",
    "future_killed_predictions = killed_model.predict(future_years)\n",
    "\n",
    "# Create a DataFrame to store the predictions\n",
    "predictions_df = pd.DataFrame({'Years': future_years.flatten(),\n",
    "                               'Total Accidents_seasons': future_accidents_predictions,\n",
    "                               'People Killed_seasons': future_killed_predictions})\n",
    "\n",
    "# Print the predictions in table format\n",
    "print(predictions_df)"
   ]
  },
  {
   "cell_type": "code",
   "execution_count": 33,
   "metadata": {},
   "outputs": [
    {
     "name": "stdout",
     "output_type": "stream",
     "text": [
      "R-squared value (Total Accidents_seasons): -0.06580416657441912\n",
      "R-squared value (People Killed_seasons): 0.3029500777469979\n"
     ]
    }
   ],
   "source": [
    "from sklearn.metrics import r2_score\n",
    "\n",
    "# Calculate R-squared value\n",
    "accidents_r2 = r2_score(y_accidents_test, accidents_predictions)\n",
    "killed_r2 = r2_score(y_killed_test, killed_predictions)\n",
    "\n",
    "# Print the R-squared value\n",
    "print('R-squared value (Total Accidents_seasons):', accidents_r2)\n",
    "print('R-squared value (People Killed_seasons):', killed_r2)"
   ]
  },
  {
   "cell_type": "code",
   "execution_count": 37,
   "metadata": {},
   "outputs": [
    {
     "name": "stdout",
     "output_type": "stream",
     "text": [
      "[  646.44186047  1046.35658915 -1283.64341085   159.44186047\n",
      "  1392.00775194]\n",
      "[139.80066445  86.27021041 -98.72978959 -80.19933555 124.78848283]\n"
     ]
    }
   ],
   "source": [
    "# Calculate residuals for Total Accidents_seasons\n",
    "accidents_residuals = y_accidents_test - accidents_predictions\n",
    "print(accidents_residuals)\n",
    "\n",
    "# Calculate residuals for People Killed_seasons\n",
    "killed_residuals = y_killed_test - killed_predictions\n",
    "print(killed_residuals)"
   ]
  },
  {
   "cell_type": "code",
   "execution_count": 82,
   "metadata": {},
   "outputs": [
    {
     "data": {
      "image/png": "[encoded data removed]",
      "text/plain": [
       "<Figure size 432x288 with 1 Axes>"
      ]
     },
     "metadata": {
      "needs_background": "light"
     },
     "output_type": "display_data"
    }
   ],
   "source": [
    "plt.scatter(y_accidents_test, accidents_residuals, label='Total Accidents_seasons')\n",
    "plt.scatter(y_killed_test, killed_residuals, label='People Killed_seasons')\n",
    "plt.axhline(0, color='red', linestyle='--')\n",
    "plt.xlabel('Observed Values')\n",
    "plt.ylabel('Residuals')\n",
    "plt.title('Residual Analysis')\n",
    "plt.legend()\n",
    "plt.show()"
   ]
  },
  {
   "cell_type": "markdown",
   "metadata": {},
   "source": [
    "### Zones\n"
   ]
  },
  {
   "cell_type": "code",
   "execution_count": 42,
   "metadata": {},
   "outputs": [],
   "source": [
    "# Split the dataset into independent and dependent variables\n",
    "X = df['Years'].values.reshape(-1, 1)  # Independent variable: Years\n",
    "y_accidents = df['Total Accidents_zones'].values  # Dependent variable: Total Accidents_zones\n",
    "y_killed = df['People Killed_zones'].values  # Dependent variable: People Killed_zones\n",
    "\n",
    "# Split the data into training and testing sets\n",
    "X_train, X_test, y_accidents_train, y_accidents_test, y_killed_train, y_killed_test = train_test_split(\n",
    "    X, y_accidents, y_killed, test_size=0.2, random_state=42)"
   ]
  },
  {
   "cell_type": "code",
   "execution_count": 43,
   "metadata": {},
   "outputs": [
    {
     "data": {
      "text/plain": [
       "LinearRegression(copy_X=True, fit_intercept=True, n_jobs=1, normalize=False)"
      ]
     },
     "execution_count": 43,
     "metadata": {},
     "output_type": "execute_result"
    }
   ],
   "source": [
    "# Create linear regression models\n",
    "accidents_model = LinearRegression()\n",
    "killed_model = LinearRegression()\n",
    "\n",
    "# Train the models\n",
    "accidents_model.fit(X_train, y_accidents_train)\n",
    "killed_model.fit(X_train, y_killed_train)"
   ]
  },
  {
   "cell_type": "code",
   "execution_count": 44,
   "metadata": {},
   "outputs": [
    {
     "name": "stdout",
     "output_type": "stream",
     "text": [
      "Mean Squared Error (Total Accidents_seasons): 24076653.537155487\n",
      "Mean Squared Error (People Killed_seasons): 346755.6669396585\n"
     ]
    }
   ],
   "source": [
    "# Make predictions\n",
    "accidents_predictions = accidents_model.predict(X_test)\n",
    "killed_predictions = killed_model.predict(X_test)\n",
    "\n",
    "# Calculate mean squared error\n",
    "accidents_mse = mean_squared_error(y_accidents_test, accidents_predictions)\n",
    "killed_mse = mean_squared_error(y_killed_test, killed_predictions)\n",
    "\n",
    "# Print the mean squared error\n",
    "print('Mean Squared Error (Total Accidents_seasons):', accidents_mse)\n",
    "print('Mean Squared Error (People Killed_seasons):', killed_mse)"
   ]
  },
  {
   "cell_type": "code",
   "execution_count": 45,
   "metadata": {},
   "outputs": [
    {
     "name": "stdout",
     "output_type": "stream",
     "text": [
      "   Years  Total Accidents_zones  People Killed_zones\n",
      "0   2023           13802.609081          1382.013289\n",
      "1   2024           14079.457364          1392.279070\n",
      "2   2025           14356.305648          1402.544850\n",
      "3   2026           14633.153931          1412.810631\n",
      "4   2027           14910.002215          1423.076412\n",
      "5   2028           15186.850498          1433.342193\n",
      "6   2029           15463.698782          1443.607973\n",
      "7   2030           15740.547065          1453.873754\n",
      "8   2031           16017.395349          1464.139535\n",
      "9   2032           16294.243632          1474.405316\n"
     ]
    }
   ],
   "source": [
    "# Create an array of future years\n",
    "future_years = np.array(range(2023, 2033)).reshape(-1, 1)\n",
    "\n",
    "# Make predictions for the future years\n",
    "future_accidents_predictions = accidents_model.predict(future_years)\n",
    "future_killed_predictions = killed_model.predict(future_years)\n",
    "\n",
    "# Create a DataFrame to store the predictions\n",
    "predictions_df = pd.DataFrame({'Years': future_years.flatten(),\n",
    "                               'Total Accidents_zones': future_accidents_predictions,\n",
    "                               'People Killed_zones': future_killed_predictions})\n",
    "\n",
    "# Print the predictions in table format\n",
    "print(predictions_df)"
   ]
  },
  {
   "cell_type": "code",
   "execution_count": 46,
   "metadata": {},
   "outputs": [
    {
     "name": "stdout",
     "output_type": "stream",
     "text": [
      "R-squared value (Total Accidents_zones): -0.17459995210495682\n",
      "R-squared value (People Killed_zones): -0.05321181661462271\n"
     ]
    }
   ],
   "source": [
    "# Calculate R-squared value\n",
    "accidents_r2 = r2_score(y_accidents_test, accidents_predictions)\n",
    "killed_r2 = r2_score(y_killed_test, killed_predictions)\n",
    "\n",
    "# Print the R-squared value\n",
    "print('R-squared value (Total Accidents_zones):', accidents_r2)\n",
    "print('R-squared value (People Killed_zones):', killed_r2)"
   ]
  },
  {
   "cell_type": "code",
   "execution_count": 47,
   "metadata": {},
   "outputs": [
    {
     "name": "stdout",
     "output_type": "stream",
     "text": [
      "[ 5124.32890365 -6848.91251384  1202.08748616  3791.32890365\n",
      " -5603.36766334]\n",
      "[ 910.84717608 -763.48172757  120.51827243   11.84717608 -553.68438538]\n"
     ]
    }
   ],
   "source": [
    "# Calculate residuals for Total Accidents_seasons\n",
    "accidents_residuals = y_accidents_test - accidents_predictions\n",
    "print(accidents_residuals)\n",
    "\n",
    "# Calculate residuals for People Killed_seasons\n",
    "killed_residuals = y_killed_test - killed_predictions\n",
    "print(killed_residuals)"
   ]
  },
  {
   "cell_type": "code",
   "execution_count": 48,
   "metadata": {},
   "outputs": [
    {
     "data": {
      "image/png": "[encoded data removed]",
      "text/plain": [
       "<Figure size 432x288 with 1 Axes>"
      ]
     },
     "metadata": {
      "needs_background": "light"
     },
     "output_type": "display_data"
    }
   ],
   "source": [
    "plt.scatter(y_accidents_test, accidents_residuals, label='Total Accidents_seasons')\n",
    "plt.scatter(y_killed_test, killed_residuals, label='People Killed_seasons')\n",
    "plt.axhline(0, color='red', linestyle='--')\n",
    "plt.xlabel('Observed Values')\n",
    "plt.ylabel('Residuals')\n",
    "plt.title('Residual Analysis')\n",
    "plt.legend()\n",
    "plt.show()"
   ]
  },
  {
   "cell_type": "markdown",
   "metadata": {},
   "source": [
    "### Roads"
   ]
  },
  {
   "cell_type": "code",
   "execution_count": 49,
   "metadata": {},
   "outputs": [],
   "source": [
    "# Split the dataset into independent and dependent variables\n",
    "X = df['Years'].values.reshape(-1, 1)  # Independent variable: Years\n",
    "y_accidents = df['Total Accidents_roads'].values  # Dependent variable: Total Accidents_roads\n",
    "y_killed = df['People Killed_roads'].values  # Dependent variable: People Killed_roads\n",
    "\n",
    "# Split the data into training and testing sets\n",
    "X_train, X_test, y_accidents_train, y_accidents_test, y_killed_train, y_killed_test = train_test_split(\n",
    "    X, y_accidents, y_killed, test_size=0.2, random_state=42)"
   ]
  },
  {
   "cell_type": "code",
   "execution_count": 59,
   "metadata": {},
   "outputs": [
    {
     "data": {
      "text/plain": [
       "LinearRegression(copy_X=True, fit_intercept=True, n_jobs=1, normalize=False)"
      ]
     },
     "execution_count": 59,
     "metadata": {},
     "output_type": "execute_result"
    }
   ],
   "source": [
    "# Create linear regression models\n",
    "accidents_model = LinearRegression()\n",
    "killed_model = LinearRegression()\n",
    "\n",
    "# Train the models\n",
    "accidents_model.fit(X_train, y_accidents_train)\n",
    "killed_model.fit(X_train, y_killed_train)"
   ]
  },
  {
   "cell_type": "code",
   "execution_count": 51,
   "metadata": {},
   "outputs": [
    {
     "name": "stdout",
     "output_type": "stream",
     "text": [
      "Mean Squared Error (Total Accidents_roads): 46060929.5072446\n",
      "Mean Squared Error (People Killed_roads): 270110.74784825847\n"
     ]
    }
   ],
   "source": [
    "# Make predictions\n",
    "accidents_predictions = accidents_model.predict(X_test)\n",
    "killed_predictions = killed_model.predict(X_test)\n",
    "\n",
    "# Calculate mean squared error\n",
    "accidents_mse = mean_squared_error(y_accidents_test, accidents_predictions)\n",
    "killed_mse = mean_squared_error(y_killed_test, killed_predictions)\n",
    "\n",
    "# Print the mean squared error\n",
    "print('Mean Squared Error (Total Accidents_roads):', accidents_mse)\n",
    "print('Mean Squared Error (People Killed_roads):', killed_mse)"
   ]
  },
  {
   "cell_type": "code",
   "execution_count": 52,
   "metadata": {},
   "outputs": [
    {
     "name": "stdout",
     "output_type": "stream",
     "text": [
      "   Years  Total Accidents_zones  People Killed_zones\n",
      "0   2023           10698.583610          1086.215947\n",
      "1   2024           10248.589147          1028.534884\n",
      "2   2025            9798.594684           970.853821\n",
      "3   2026            9348.600221           913.172757\n",
      "4   2027            8898.605759           855.491694\n",
      "5   2028            8448.611296           797.810631\n",
      "6   2029            7998.616833           740.129568\n",
      "7   2030            7548.622370           682.448505\n",
      "8   2031            7098.627907           624.767442\n",
      "9   2032            6648.633444           567.086379\n"
     ]
    }
   ],
   "source": [
    "# Create an array of future years\n",
    "future_years = np.array(range(2023, 2033)).reshape(-1, 1)\n",
    "\n",
    "# Make predictions for the future years\n",
    "future_accidents_predictions = accidents_model.predict(future_years)\n",
    "future_killed_predictions = killed_model.predict(future_years)\n",
    "\n",
    "# Create a DataFrame to store the predictions\n",
    "predictions_df = pd.DataFrame({'Years': future_years.flatten(),\n",
    "                               'Total Accidents_roads': future_accidents_predictions,\n",
    "                               'People Killed_roads': future_killed_predictions})\n",
    "\n",
    "# Print the predictions in table format\n",
    "print(predictions_df)"
   ]
  },
  {
   "cell_type": "code",
   "execution_count": 53,
   "metadata": {},
   "outputs": [
    {
     "name": "stdout",
     "output_type": "stream",
     "text": [
      "R-squared value (Total Accidents_roads): -0.11086998844071694\n",
      "R-squared value (People Killed_roads): -0.17110812096809025\n"
     ]
    }
   ],
   "source": [
    "# Calculate R-squared value\n",
    "accidents_r2 = r2_score(y_accidents_test, accidents_predictions)\n",
    "killed_r2 = r2_score(y_killed_test, killed_predictions)\n",
    "\n",
    "# Print the R-squared value\n",
    "print('R-squared value (Total Accidents_roads):', accidents_r2)\n",
    "print('R-squared value (People Killed_roads):', killed_r2)"
   ]
  },
  {
   "cell_type": "code",
   "execution_count": 54,
   "metadata": {},
   "outputs": [
    {
     "name": "stdout",
     "output_type": "stream",
     "text": [
      "[-4639.5448505   6359.42746401 -3550.57253599 -6713.5448505\n",
      " 10519.4440753 ]\n",
      "[-226.9833887   484.42192691 -226.57807309 -604.9833887   804.37873754]\n"
     ]
    }
   ],
   "source": [
    "# Calculate residuals for Total Accidents_seasons\n",
    "accidents_residuals = y_accidents_test - accidents_predictions\n",
    "print(accidents_residuals)\n",
    "\n",
    "# Calculate residuals for People Killed_seasons\n",
    "killed_residuals = y_killed_test - killed_predictions\n",
    "print(killed_residuals)"
   ]
  },
  {
   "cell_type": "code",
   "execution_count": 56,
   "metadata": {},
   "outputs": [
    {
     "data": {
      "image/png": "[encoded data removed]",
      "text/plain": [
       "<Figure size 432x288 with 1 Axes>"
      ]
     },
     "metadata": {
      "needs_background": "light"
     },
     "output_type": "display_data"
    }
   ],
   "source": [
    "plt.scatter(y_accidents_test, accidents_residuals, label='Total Accidents_roads')\n",
    "plt.scatter(y_killed_test, killed_residuals, label='People Killed_roads')\n",
    "plt.axhline(0, color='red', linestyle='--')\n",
    "plt.xlabel('Observed Values')\n",
    "plt.ylabel('Residuals')\n",
    "plt.title('Residual Analysis')\n",
    "plt.legend()\n",
    "plt.show()"
   ]
  },
  {
   "cell_type": "markdown",
   "metadata": {},
   "source": [
    "### Time"
   ]
  },
  {
   "cell_type": "code",
   "execution_count": 58,
   "metadata": {},
   "outputs": [],
   "source": [
    "# Split the dataset into independent and dependent variables\n",
    "X = df['Years'].values.reshape(-1, 1)  # Independent variable: Years\n",
    "y_accidents = df['Total Accidents_time'].values  # Dependent variable: Total Accidents_time\n",
    "y_killed = df['People Killed_time'].values  # Dependent variable: People Killed_time\n",
    "\n",
    "# Split the data into training and testing sets\n",
    "X_train, X_test, y_accidents_train, y_accidents_test, y_killed_train, y_killed_test = train_test_split(\n",
    "    X, y_accidents, y_killed, test_size=0.2, random_state=42)"
   ]
  },
  {
   "cell_type": "code",
   "execution_count": 60,
   "metadata": {},
   "outputs": [
    {
     "data": {
      "text/plain": [
       "LinearRegression(copy_X=True, fit_intercept=True, n_jobs=1, normalize=False)"
      ]
     },
     "execution_count": 60,
     "metadata": {},
     "output_type": "execute_result"
    }
   ],
   "source": [
    "# Create linear regression models\n",
    "accidents_model = LinearRegression()\n",
    "killed_model = LinearRegression()\n",
    "\n",
    "# Train the models\n",
    "accidents_model.fit(X_train, y_accidents_train)\n",
    "killed_model.fit(X_train, y_killed_train)"
   ]
  },
  {
   "cell_type": "code",
   "execution_count": 66,
   "metadata": {},
   "outputs": [
    {
     "name": "stdout",
     "output_type": "stream",
     "text": [
      "Mean Squared Error (Total Accidents_time): 151462711.3438198\n",
      "Mean Squared Error (People Killed_time): 18725353.764166217\n"
     ]
    }
   ],
   "source": [
    "# Make predictions\n",
    "accidents_predictions = accidents_model.predict(X_test)\n",
    "killed_predictions = killed_model.predict(X_test)\n",
    "\n",
    "# Calculate mean squared error\n",
    "accidents_mse = mean_squared_error(y_accidents_test, accidents_predictions)\n",
    "killed_mse = mean_squared_error(y_killed_test, killed_predictions)\n",
    "\n",
    "# Print the mean squared error\n",
    "print('Mean Squared Error (Total Accidents_time):', accidents_mse)\n",
    "print('Mean Squared Error (People Killed_time):', killed_mse)"
   ]
  },
  {
   "cell_type": "code",
   "execution_count": 67,
   "metadata": {},
   "outputs": [
    {
     "name": "stdout",
     "output_type": "stream",
     "text": [
      "   Years  Total Accidents_time  People Killed_time\n",
      "0   2023          13544.236988         3807.940199\n",
      "1   2024          14353.643411         3454.744186\n",
      "2   2025          15163.049834         3101.548173\n",
      "3   2026          15972.456257         2748.352159\n",
      "4   2027          16781.862680         2395.156146\n",
      "5   2028          17591.269103         2041.960133\n",
      "6   2029          18400.675526         1688.764120\n",
      "7   2030          19210.081949         1335.568106\n",
      "8   2031          20019.488372          982.372093\n",
      "9   2032          20828.894795          629.176080\n"
     ]
    }
   ],
   "source": [
    "# Create an array of future years\n",
    "future_years = np.array(range(2023, 2033)).reshape(-1, 1)\n",
    "\n",
    "# Make predictions for the future years\n",
    "future_accidents_predictions = accidents_model.predict(future_years)\n",
    "future_killed_predictions = killed_model.predict(future_years)\n",
    "\n",
    "# Create a DataFrame to store the predictions\n",
    "predictions_df = pd.DataFrame({'Years': future_years.flatten(),\n",
    "                               'Total Accidents_time': future_accidents_predictions,\n",
    "                               'People Killed_time': future_killed_predictions})\n",
    "\n",
    "# Print the predictions in table format\n",
    "print(predictions_df)"
   ]
  },
  {
   "cell_type": "code",
   "execution_count": 68,
   "metadata": {},
   "outputs": [
    {
     "name": "stdout",
     "output_type": "stream",
     "text": [
      "R-squared value (Total Accidents_time): -0.16334437046687977\n",
      "R-squared value (People Killed_time): -16.49745515107706\n"
     ]
    }
   ],
   "source": [
    "# Calculate R-squared value\n",
    "accidents_r2 = r2_score(y_accidents_test, accidents_predictions)\n",
    "killed_r2 = r2_score(y_killed_test, killed_predictions)\n",
    "\n",
    "# Print the R-squared value\n",
    "print('R-squared value (Total Accidents_time):', accidents_r2)\n",
    "print('R-squared value (People Killed_time):', killed_r2)"
   ]
  },
  {
   "cell_type": "code",
   "execution_count": 64,
   "metadata": {},
   "outputs": [
    {
     "name": "stdout",
     "output_type": "stream",
     "text": [
      "[ 20457.60797342 -11871.42414175   9977.57585825   3048.60797342\n",
      "  -9435.20487265]\n",
      "[-3681.31229236 -4501.33222591 -2702.33222591 -4641.31229236\n",
      " -5564.92026578]\n"
     ]
    }
   ],
   "source": [
    "# Calculate residuals for Total Accidents_seasons\n",
    "accidents_residuals = y_accidents_test - accidents_predictions\n",
    "print(accidents_residuals)\n",
    "\n",
    "# Calculate residuals for People Killed_seasons\n",
    "killed_residuals = y_killed_test - killed_predictions\n",
    "print(killed_residuals)"
   ]
  },
  {
   "cell_type": "code",
   "execution_count": 69,
   "metadata": {},
   "outputs": [
    {
     "data": {
      "image/png": "[encoded data removed]",
      "text/plain": [
       "<Figure size 432x288 with 1 Axes>"
      ]
     },
     "metadata": {
      "needs_background": "light"
     },
     "output_type": "display_data"
    }
   ],
   "source": [
    "plt.scatter(y_accidents_test, accidents_residuals, label='Total Accidents_time')\n",
    "plt.scatter(y_killed_test, killed_residuals, label='People Killed_time')\n",
    "plt.axhline(0, color='red', linestyle='--')\n",
    "plt.xlabel('Observed Values')\n",
    "plt.ylabel('Residuals')\n",
    "plt.title('Residual Analysis')\n",
    "plt.legend()\n",
    "plt.show()"
   ]
  },
  {
   "cell_type": "code",
   "execution_count": null,
   "metadata": {},
   "outputs": [],
   "source": []
  },
  {
   "cell_type": "code",
   "execution_count": 70,
   "metadata": {},
   "outputs": [],
   "source": [
    "import pandas as pd\n",
    "import numpy as np\n",
    "import matplotlib.pyplot as plt\n",
    "from statsmodels.tsa.statespace.sarimax import SARIMAX"
   ]
  },
  {
   "cell_type": "code",
   "execution_count": 71,
   "metadata": {},
   "outputs": [],
   "source": [
    "# Load the dataset\n",
    "data = pd.DataFrame({\n",
    "    'Years': [2016, 2016, 2016, 2017, 2017, 2017, 2018, 2018, 2018, 2019, 2019, 2019,\n",
    "              2020, 2020, 2020, 2021, 2021, 2021, 2022, 2022, 2022],\n",
    "    'Seasons': ['Pre-Monsoon', 'Monsoon', 'Post-Monsoon', 'Pre-Monsoon', 'Monsoon',\n",
    "                'Post-Monsoon', 'Pre-Monsoon', 'Monsoon', 'Post-Monsoon', 'Pre-Monsoon',\n",
    "                'Monsoon', 'Post-Monsoon', 'Pre-Monsoon', 'Monsoon', 'Post-Monsoon',\n",
    "                'Pre-Monsoon', 'Monsoon', 'Post-Monsoon', 'Pre-Monsoon', 'Monsoon',\n",
    "                'Post-Monsoon'],\n",
    "    'Total Accidents_seasons': [13313, 12826, 13281, 12979, 12268, 13233, 13799, 12441,\n",
    "                                13941, 14257, 12608, 14246, 8392, 7572, 11893, 11089,\n",
    "                                8788, 13419, 14446, 13962, 15502],\n",
    "    'People Killed_seasons': [1542, 1322, 1423, 1423, 1323, 1385, 1568, 1263, 1472, 1668,\n",
    "                              1271, 1501, 868, 806, 1305, 1166, 912, 1351, 1549, 1329,\n",
    "                              1439]\n",
    "})"
   ]
  },
  {
   "cell_type": "code",
   "execution_count": 81,
   "metadata": {},
   "outputs": [
    {
     "name": "stderr",
     "output_type": "stream",
     "text": [
      "C:\\Anaconda3\\lib\\site-packages\\statsmodels\\tsa\\base\\tsa_model.py:221: ValueWarning: An unsupported index was provided and will be ignored when e.g. forecasting.\n",
      "  ' ignored when e.g. forecasting.', ValueWarning)\n"
     ]
    },
    {
     "ename": "ValueError",
     "evalue": "Invalid value for design matrix. Requires a 2- or 3-dimensional array, got 1 dimensions",
     "output_type": "error",
     "traceback": [
      "\u001b[1;31m---------------------------------------------------------------------------\u001b[0m",
      "\u001b[1;31mValueError\u001b[0m                                Traceback (most recent call last)",
      "\u001b[1;32m<ipython-input-81-2b132a7ac83f>\u001b[0m in \u001b[0;36m<module>\u001b[1;34m()\u001b[0m\n\u001b[0;32m      5\u001b[0m \u001b[0mforecast_periods\u001b[0m \u001b[1;33m=\u001b[0m \u001b[1;36m10\u001b[0m\u001b[1;33m\u001b[0m\u001b[0m\n\u001b[0;32m      6\u001b[0m \u001b[0mseasonal_order\u001b[0m \u001b[1;33m=\u001b[0m \u001b[1;33m(\u001b[0m\u001b[1;36m0\u001b[0m\u001b[1;33m,\u001b[0m \u001b[1;36m0\u001b[0m\u001b[1;33m,\u001b[0m \u001b[1;36m0\u001b[0m\u001b[1;33m,\u001b[0m \u001b[1;36m3\u001b[0m\u001b[1;33m)\u001b[0m  \u001b[1;31m# Example seasonal order (p, d, q, s)\u001b[0m\u001b[1;33m\u001b[0m\u001b[0m\n\u001b[1;32m----> 7\u001b[1;33m \u001b[0mseasonal_model\u001b[0m \u001b[1;33m=\u001b[0m \u001b[0mSARIMAX\u001b[0m\u001b[1;33m(\u001b[0m\u001b[0mseasonal_data\u001b[0m\u001b[1;33m[\u001b[0m\u001b[1;34m'Total Accidents_seasons'\u001b[0m\u001b[1;33m]\u001b[0m\u001b[1;33m,\u001b[0m \u001b[0morder\u001b[0m\u001b[1;33m=\u001b[0m\u001b[1;33m(\u001b[0m\u001b[1;36m1\u001b[0m\u001b[1;33m,\u001b[0m \u001b[1;36m0\u001b[0m\u001b[1;33m,\u001b[0m \u001b[1;36m0\u001b[0m\u001b[1;33m)\u001b[0m\u001b[1;33m,\u001b[0m \u001b[0mseasonal_order\u001b[0m\u001b[1;33m=\u001b[0m\u001b[0mseasonal_order\u001b[0m\u001b[1;33m)\u001b[0m\u001b[1;33m\u001b[0m\u001b[0m\n\u001b[0m\u001b[0;32m      8\u001b[0m \u001b[0mseasonal_results\u001b[0m \u001b[1;33m=\u001b[0m \u001b[0mseasonal_model\u001b[0m\u001b[1;33m.\u001b[0m\u001b[0mfit\u001b[0m\u001b[1;33m(\u001b[0m\u001b[1;33m)\u001b[0m\u001b[1;33m\u001b[0m\u001b[0m\n\u001b[0;32m      9\u001b[0m \u001b[0mseasonal_forecast\u001b[0m \u001b[1;33m=\u001b[0m \u001b[0mseasonal_results\u001b[0m\u001b[1;33m.\u001b[0m\u001b[0mget_forecast\u001b[0m\u001b[1;33m(\u001b[0m\u001b[0msteps\u001b[0m\u001b[1;33m=\u001b[0m\u001b[0mforecast_periods\u001b[0m\u001b[1;33m)\u001b[0m\u001b[1;33m\u001b[0m\u001b[0m\n",
      "\u001b[1;32mC:\\Anaconda3\\lib\\site-packages\\statsmodels\\tsa\\statespace\\sarimax.py\u001b[0m in \u001b[0;36m__init__\u001b[1;34m(self, endog, exog, order, seasonal_order, trend, measurement_error, time_varying_regression, mle_regression, simple_differencing, enforce_stationarity, enforce_invertibility, hamilton_representation, **kwargs)\u001b[0m\n\u001b[0;32m    509\u001b[0m \u001b[1;33m\u001b[0m\u001b[0m\n\u001b[0;32m    510\u001b[0m         \u001b[1;31m# Initialize the fixed components of the statespace model\u001b[0m\u001b[1;33m\u001b[0m\u001b[1;33m\u001b[0m\u001b[0m\n\u001b[1;32m--> 511\u001b[1;33m         \u001b[0mself\u001b[0m\u001b[1;33m.\u001b[0m\u001b[0mssm\u001b[0m\u001b[1;33m[\u001b[0m\u001b[1;34m'design'\u001b[0m\u001b[1;33m]\u001b[0m \u001b[1;33m=\u001b[0m \u001b[0mself\u001b[0m\u001b[1;33m.\u001b[0m\u001b[0minitial_design\u001b[0m\u001b[1;33m\u001b[0m\u001b[0m\n\u001b[0m\u001b[0;32m    512\u001b[0m         \u001b[0mself\u001b[0m\u001b[1;33m.\u001b[0m\u001b[0mssm\u001b[0m\u001b[1;33m[\u001b[0m\u001b[1;34m'state_intercept'\u001b[0m\u001b[1;33m]\u001b[0m \u001b[1;33m=\u001b[0m \u001b[0mself\u001b[0m\u001b[1;33m.\u001b[0m\u001b[0minitial_state_intercept\u001b[0m\u001b[1;33m\u001b[0m\u001b[0m\n\u001b[0;32m    513\u001b[0m         \u001b[0mself\u001b[0m\u001b[1;33m.\u001b[0m\u001b[0mssm\u001b[0m\u001b[1;33m[\u001b[0m\u001b[1;34m'transition'\u001b[0m\u001b[1;33m]\u001b[0m \u001b[1;33m=\u001b[0m \u001b[0mself\u001b[0m\u001b[1;33m.\u001b[0m\u001b[0minitial_transition\u001b[0m\u001b[1;33m\u001b[0m\u001b[0m\n",
      "\u001b[1;32mC:\\Anaconda3\\lib\\site-packages\\statsmodels\\tsa\\statespace\\representation.py\u001b[0m in \u001b[0;36m__setitem__\u001b[1;34m(self, key, value)\u001b[0m\n\u001b[0;32m    407\u001b[0m                 raise IndexError('\"%s\" is an invalid state space matrix name'\n\u001b[0;32m    408\u001b[0m                                  % key)\n\u001b[1;32m--> 409\u001b[1;33m             \u001b[0msetattr\u001b[0m\u001b[1;33m(\u001b[0m\u001b[0mself\u001b[0m\u001b[1;33m,\u001b[0m \u001b[0mkey\u001b[0m\u001b[1;33m,\u001b[0m \u001b[0mvalue\u001b[0m\u001b[1;33m)\u001b[0m\u001b[1;33m\u001b[0m\u001b[0m\n\u001b[0m\u001b[0;32m    410\u001b[0m         \u001b[1;31m# If it's a tuple (with a string as the first element) then we must be\u001b[0m\u001b[1;33m\u001b[0m\u001b[1;33m\u001b[0m\u001b[0m\n\u001b[0;32m    411\u001b[0m         \u001b[1;31m# setting a slice of a matrix\u001b[0m\u001b[1;33m\u001b[0m\u001b[1;33m\u001b[0m\u001b[0m\n",
      "\u001b[1;32mC:\\Anaconda3\\lib\\site-packages\\statsmodels\\tsa\\statespace\\representation.py\u001b[0m in \u001b[0;36m__set__\u001b[1;34m(self, obj, value)\u001b[0m\n\u001b[0;32m     52\u001b[0m \u001b[1;33m\u001b[0m\u001b[0m\n\u001b[0;32m     53\u001b[0m         \u001b[1;32mif\u001b[0m \u001b[0mlen\u001b[0m\u001b[1;33m(\u001b[0m\u001b[0mshape\u001b[0m\u001b[1;33m)\u001b[0m \u001b[1;33m==\u001b[0m \u001b[1;36m3\u001b[0m\u001b[1;33m:\u001b[0m\u001b[1;33m\u001b[0m\u001b[0m\n\u001b[1;32m---> 54\u001b[1;33m             \u001b[0mvalue\u001b[0m \u001b[1;33m=\u001b[0m \u001b[0mself\u001b[0m\u001b[1;33m.\u001b[0m\u001b[0m_set_matrix\u001b[0m\u001b[1;33m(\u001b[0m\u001b[0mobj\u001b[0m\u001b[1;33m,\u001b[0m \u001b[0mvalue\u001b[0m\u001b[1;33m,\u001b[0m \u001b[0mshape\u001b[0m\u001b[1;33m)\u001b[0m\u001b[1;33m\u001b[0m\u001b[0m\n\u001b[0m\u001b[0;32m     55\u001b[0m         \u001b[1;32melse\u001b[0m\u001b[1;33m:\u001b[0m\u001b[1;33m\u001b[0m\u001b[0m\n\u001b[0;32m     56\u001b[0m             \u001b[0mvalue\u001b[0m \u001b[1;33m=\u001b[0m \u001b[0mself\u001b[0m\u001b[1;33m.\u001b[0m\u001b[0m_set_vector\u001b[0m\u001b[1;33m(\u001b[0m\u001b[0mobj\u001b[0m\u001b[1;33m,\u001b[0m \u001b[0mvalue\u001b[0m\u001b[1;33m,\u001b[0m \u001b[0mshape\u001b[0m\u001b[1;33m)\u001b[0m\u001b[1;33m\u001b[0m\u001b[0m\n",
      "\u001b[1;32mC:\\Anaconda3\\lib\\site-packages\\statsmodels\\tsa\\statespace\\representation.py\u001b[0m in \u001b[0;36m_set_matrix\u001b[1;34m(self, obj, value, shape)\u001b[0m\n\u001b[0;32m     66\u001b[0m         \u001b[1;31m# Enforce that the matrix is appropriate size\u001b[0m\u001b[1;33m\u001b[0m\u001b[1;33m\u001b[0m\u001b[0m\n\u001b[0;32m     67\u001b[0m         validate_matrix_shape(\n\u001b[1;32m---> 68\u001b[1;33m             \u001b[0mself\u001b[0m\u001b[1;33m.\u001b[0m\u001b[0mname\u001b[0m\u001b[1;33m,\u001b[0m \u001b[0mvalue\u001b[0m\u001b[1;33m.\u001b[0m\u001b[0mshape\u001b[0m\u001b[1;33m,\u001b[0m \u001b[0mshape\u001b[0m\u001b[1;33m[\u001b[0m\u001b[1;36m0\u001b[0m\u001b[1;33m]\u001b[0m\u001b[1;33m,\u001b[0m \u001b[0mshape\u001b[0m\u001b[1;33m[\u001b[0m\u001b[1;36m1\u001b[0m\u001b[1;33m]\u001b[0m\u001b[1;33m,\u001b[0m \u001b[0mobj\u001b[0m\u001b[1;33m.\u001b[0m\u001b[0mnobs\u001b[0m\u001b[1;33m\u001b[0m\u001b[0m\n\u001b[0m\u001b[0;32m     69\u001b[0m         )\n\u001b[0;32m     70\u001b[0m \u001b[1;33m\u001b[0m\u001b[0m\n",
      "\u001b[1;32mC:\\Anaconda3\\lib\\site-packages\\statsmodels\\tsa\\statespace\\tools.py\u001b[0m in \u001b[0;36mvalidate_matrix_shape\u001b[1;34m(name, shape, nrows, ncols, nobs)\u001b[0m\n\u001b[0;32m   1538\u001b[0m         raise ValueError('Invalid value for %s matrix. Requires a'\n\u001b[0;32m   1539\u001b[0m                          \u001b[1;34m' 2- or 3-dimensional array, got %d dimensions'\u001b[0m \u001b[1;33m%\u001b[0m\u001b[1;33m\u001b[0m\u001b[0m\n\u001b[1;32m-> 1540\u001b[1;33m                          (name, ndim))\n\u001b[0m\u001b[0;32m   1541\u001b[0m     \u001b[1;31m# Enforce the shape of the matrix\u001b[0m\u001b[1;33m\u001b[0m\u001b[1;33m\u001b[0m\u001b[0m\n\u001b[0;32m   1542\u001b[0m     \u001b[1;32mif\u001b[0m \u001b[1;32mnot\u001b[0m \u001b[0mshape\u001b[0m\u001b[1;33m[\u001b[0m\u001b[1;36m0\u001b[0m\u001b[1;33m]\u001b[0m \u001b[1;33m==\u001b[0m \u001b[0mnrows\u001b[0m\u001b[1;33m:\u001b[0m\u001b[1;33m\u001b[0m\u001b[0m\n",
      "\u001b[1;31mValueError\u001b[0m: Invalid value for design matrix. Requires a 2- or 3-dimensional array, got 1 dimensions"
     ]
    }
   ],
   "source": [
    "# Create a pivot table for the seasonal data\n",
    "seasonal_data = data.pivot(index='Years', columns='Seasons', values=['Total Accidents_seasons', 'People Killed_seasons'])\n",
    "\n",
    "# Perform SARIMA forecast\n",
    "forecast_periods = 10\n",
    "seasonal_order = (0, 0, 0, 3)  # Example seasonal order (p, d, q, s)\n",
    "seasonal_model = SARIMAX(seasonal_data['Total Accidents_seasons'], order=(1, 0, 0), seasonal_order=seasonal_order)\n",
    "seasonal_results = seasonal_model.fit()\n",
    "seasonal_forecast = seasonal_results.get_forecast(steps=forecast_periods)"
   ]
  },
  {
   "cell_type": "code",
   "execution_count": null,
   "metadata": {},
   "outputs": [],
   "source": [
    "# Get the forecasted values and confidence intervals\n",
    "forecast_values = seasonal_forecast.predicted_mean\n",
    "ci_lower = seasonal_forecast.conf_int()['lower Total Accidents_seasons']\n",
    "ci_upper = seasonal_forecast.conf_int()['upper Total Accidents_seasons']"
   ]
  },
  {
   "cell_type": "code",
   "execution_count": null,
   "metadata": {},
   "outputs": [],
   "source": [
    "# Plot the forecast\n",
    "plt.figure(figsize=(10, 6))\n",
    "x = np.arange(seasonal_data.index.min(), seasonal_data.index.max() + forecast_periods)\n",
    "plt.plot(seasonal_data.index, seasonal_data['Total Accidents_seasons'], label='Actual')\n",
    "plt.plot(x[-forecast_periods:], forecast_values, label='Forecast')\n",
    "plt.fill_between(x[-forecast_periods:], ci_lower, ci_upper, alpha=0.3)\n",
    "plt.xlabel('Years')\n",
    "plt.ylabel('Total Accidents (Seasons)')\n",
    "plt.title('Forecast of Total Accidents (Seasons) for Next 10 Years')\n",
    "plt.legend()\n",
    "plt.show()"
   ]
  },
  {
   "cell_type": "code",
   "execution_count": null,
   "metadata": {},
   "outputs": [],
   "source": [
    "# Perform SARIMA forecast for People Killed\n",
    "seasonal_model_killed = SARIMAX(seasonal_data['People Killed_seasons'], order=(1, 0, 0), seasonal_order=seasonal_order)\n",
    "seasonal_results_killed = seasonal_model_killed.fit()\n",
    "seasonal_forecast_killed = seasonal_results_killed.get_forecast(steps=forecast_periods)\n",
    "\n",
    "# Get the forecasted values and confidence intervals for People Killed\n",
    "forecast_values_killed = seasonal_forecast_killed.predicted_mean\n",
    "ci_lower_killed = seasonal_forecast_killed.conf_int()['lower People Killed_seasons']\n",
    "ci_upper_killed = seasonal_forecast_killed.conf_int()['upper People Killed_seasons']"
   ]
  },
  {
   "cell_type": "code",
   "execution_count": null,
   "metadata": {},
   "outputs": [],
   "source": [
    "# Plot the forecast for People Killed\n",
    "plt.figure(figsize=(10, 6))\n",
    "plt.plot(seasonal_data.index, seasonal_data['People Killed_seasons'], label='Actual')\n",
    "plt.plot(x[-forecast_periods:], forecast_values_killed, label='Forecast')\n",
    "plt.fill_between(x[-forecast_periods:], ci_lower_killed, ci_upper_killed, alpha=0.3)\n",
    "plt.xlabel('Years')\n",
    "plt.ylabel('People Killed (Seasons)')\n",
    "plt.title('Forecast of People Killed (Seasons) for Next 10 Years')\n",
    "plt.legend()\n",
    "plt.show()\n"
   ]
  }
 ],
 "metadata": {
  "kernelspec": {
   "display_name": "Python 3",
   "language": "python",
   "name": "python3"
  },
  "language_info": {
   "codemirror_mode": {
    "name": "ipython",
    "version": 3
   },
   "file_extension": ".py",
   "mimetype": "text/x-python",
   "name": "python",
   "nbconvert_exporter": "python",
   "pygments_lexer": "ipython3",
   "version": "3.7.0"
  }
 },
 "nbformat": 4,
 "nbformat_minor": 2
}
