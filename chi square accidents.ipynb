{
 "cells": [
  {
   "cell_type": "code",
   "execution_count": 1,
   "metadata": {},
   "outputs": [],
   "source": [
    "import pandas as pd\n",
    "from scipy.stats import chi2_contingency\n",
    "from scipy.stats import f_oneway\n",
    "import scipy.stats as stats"
   ]
  },
  {
   "cell_type": "code",
   "execution_count": 2,
   "metadata": {},
   "outputs": [
    {
     "name": "stdout",
     "output_type": "stream",
     "text": [
      "         Seasons  Years  Total Accidents_seasons  People Killed\n",
      "0    Pre-Monsoon   2016                    13313           1542\n",
      "1        Monsoon   2016                    12826           1322\n",
      "2   Post-Monsoon   2016                    13281           1423\n",
      "3    Pre-Monsoon   2017                    12979           1423\n",
      "4        Monsoon   2017                    12268           1323\n",
      "5   Post-Monsoon   2017                    13233           1385\n",
      "6    Pre-Monsoon   2018                    13799           1568\n",
      "7        Monsoon   2018                    12441           1263\n",
      "8   Post-Monsoon   2018                    13941           1472\n",
      "9    Pre-Monsoon   2019                    14257           1668\n",
      "10       Monsoon   2019                    12608           1271\n",
      "11  Post-Monsoon   2019                    14246           1501\n",
      "12   Pre-Monsoon   2020                     8392            868\n",
      "13       Monsoon   2020                     7572            806\n",
      "14  Post-Monsoon   2020                    11893           1305\n",
      "15   Pre-Monsoon   2021                    11089           1166\n",
      "16       Monsoon   2021                     8788            912\n",
      "17  Post-Monsoon   2021                    13419           1351\n",
      "18   Pre-Monsoon   2022                    14446           1549\n",
      "19       Monsoon   2022                    13962           1329\n",
      "20  Post-Monsoon   2022                    15502           1439\n"
     ]
    }
   ],
   "source": [
    "# Read the dataset into a DataFrame\n",
    "data = pd.read_excel(r'C:\\Users\\253933\\Downloads\\Accidents.xlsx', sheet_name='Sheet1')\n",
    "print(data)"
   ]
  },
  {
   "cell_type": "code",
   "execution_count": 3,
   "metadata": {},
   "outputs": [
    {
     "name": "stdout",
     "output_type": "stream",
     "text": [
      "F-statistic: 2.115595166605169\n",
      "p-value: 0.14955057723557544\n"
     ]
    }
   ],
   "source": [
    "# Extract the 'Total Accidents' column for each season\n",
    "pre_monsoon = data[data['Seasons'] == 'Pre-Monsoon']['Total Accidents_seasons']\n",
    "monsoon = data[data['Seasons'] == 'Monsoon']['Total Accidents_seasons']\n",
    "post_monsoon = data[data['Seasons'] == 'Post-Monsoon']['Total Accidents_seasons']\n",
    "\n",
    "# Perform the one-way ANOVA test\n",
    "f_statistic, p_value = f_oneway(pre_monsoon, monsoon, post_monsoon)\n",
    "\n",
    "print(\"F-statistic:\", f_statistic)\n",
    "print(\"p-value:\", p_value)"
   ]
  },
  {
   "cell_type": "code",
   "execution_count": 4,
   "metadata": {},
   "outputs": [
    {
     "name": "stdout",
     "output_type": "stream",
     "text": [
      "F-statistic: 2.768701952460221\n",
      "p-value: 0.08945930221523635\n"
     ]
    }
   ],
   "source": [
    "# Extract the 'People Killed' column for each season\n",
    "pre_monsoon = data[data['Seasons'] == 'Pre-Monsoon']['People Killed']\n",
    "monsoon = data[data['Seasons'] == 'Monsoon']['People Killed']\n",
    "post_monsoon = data[data['Seasons'] == 'Post-Monsoon']['People Killed']\n",
    "\n",
    "# Perform the one-way ANOVA test\n",
    "f_statistic, p_value = f_oneway(pre_monsoon, monsoon, post_monsoon)\n",
    "\n",
    "print(\"F-statistic:\", f_statistic)\n",
    "print(\"p-value:\", p_value)"
   ]
  },
  {
   "cell_type": "code",
   "execution_count": 5,
   "metadata": {},
   "outputs": [
    {
     "name": "stdout",
     "output_type": "stream",
     "text": [
      "Chi-square test results for accidents:\n",
      "Chi-square statistic: 42.00000000000002\n",
      "p-value: 0.3842627722643417\n",
      "Degrees of Freedom: 40\n"
     ]
    }
   ],
   "source": [
    "# Create a contingency table for seasons and accidents\n",
    "accidents_table = pd.crosstab(data['Seasons'], data['Total Accidents_seasons'])\n",
    "\n",
    "# Perform the chi-square test for accidents\n",
    "chi2_accidents, p_value_accidents, dof, _ = chi2_contingency(accidents_table)\n",
    "\n",
    "print(\"Chi-square test results for accidents:\")\n",
    "print(\"Chi-square statistic:\", chi2_accidents)\n",
    "print(\"p-value:\", p_value_accidents)\n",
    "print(\"Degrees of Freedom:\", dof)"
   ]
  },
  {
   "cell_type": "code",
   "execution_count": 6,
   "metadata": {},
   "outputs": [
    {
     "name": "stdout",
     "output_type": "stream",
     "text": [
      "\n",
      "Chi-square test results for people killed:\n",
      "Chi-square statistic: 39.000000000000014\n",
      "p-value: 0.4246084003495384\n",
      "Degrees of Freedom: 38\n"
     ]
    }
   ],
   "source": [
    "# Create a contingency table for seasons and people killed\n",
    "people_killed_table = pd.crosstab(data['Seasons'], data['People Killed'])\n",
    "\n",
    "# Perform the chi-square test for people killed\n",
    "chi2_people_killed, p_value_people_killed, dof, _ = chi2_contingency(people_killed_table)\n",
    "\n",
    "print(\"\\nChi-square test results for people killed:\")\n",
    "print(\"Chi-square statistic:\", chi2_people_killed)\n",
    "print(\"p-value:\", p_value_people_killed)\n",
    "print(\"Degrees of Freedom:\", dof)"
   ]
  },
  {
   "cell_type": "code",
   "execution_count": 7,
   "metadata": {},
   "outputs": [
    {
     "name": "stdout",
     "output_type": "stream",
     "text": [
      "       Zones  Years  Total Accidents_zones  People Killed\n",
      "0   Northern   2016                  16989           2221\n",
      "1    Central   2016                  15656           1322\n",
      "2   Southern   2016                   6775            744\n",
      "3   Northern   2017                  17051           2139\n",
      "4    Central   2017                  14844           1239\n",
      "5   Southern   2017                   6575            753\n",
      "6   Northern   2018                  18129           1905\n",
      "7    Central   2018                  15237           1621\n",
      "8   Southern   2018                   6815            777\n",
      "9   Northern   2019                  18062           1953\n",
      "10   Central   2019                  15725           1666\n",
      "11  Southern   2019                   7324            821\n",
      "12  Northern   2020                  12717           1325\n",
      "13   Central   2020                  10286           1123\n",
      "14  Southern   2020                   4874            531\n",
      "15  Northern   2021                  14451           1482\n",
      "16   Central   2021                  12445           1349\n",
      "17  Southern   2021                   6400            598\n",
      "18  Northern   2022                  18344           1920\n",
      "19   Central   2022                  16723           1590\n",
      "20  Southern   2022                   8843            807\n"
     ]
    }
   ],
   "source": [
    "# Read the dataset into a DataFrame\n",
    "data = pd.read_excel(r'C:\\Users\\253933\\Downloads\\Accidents.xlsx', sheet_name='Sheet2')\n",
    "print(data)"
   ]
  },
  {
   "cell_type": "code",
   "execution_count": 8,
   "metadata": {},
   "outputs": [
    {
     "name": "stdout",
     "output_type": "stream",
     "text": [
      "F-statistic: 49.81808292571853\n",
      "p-value: 4.598167601303175e-08\n"
     ]
    }
   ],
   "source": [
    "# Extract the 'Total Accidents' column for each zone\n",
    "Northern = data[data['Zones'] == 'Northern']['Total Accidents_zones']\n",
    "Central = data[data['Zones'] == 'Central']['Total Accidents_zones']\n",
    "Southern = data[data['Zones'] == 'Southern']['Total Accidents_zones']\n",
    "\n",
    "# Perform the one-way ANOVA test\n",
    "f_statistic, p_value = f_oneway(Northern, Central, Southern)\n",
    "\n",
    "print(\"F-statistic:\", f_statistic)\n",
    "print(\"p-value:\", p_value)"
   ]
  },
  {
   "cell_type": "code",
   "execution_count": 9,
   "metadata": {},
   "outputs": [
    {
     "name": "stdout",
     "output_type": "stream",
     "text": [
      "F-statistic: 41.43410525184919\n",
      "p-value: 1.83511675725829e-07\n"
     ]
    }
   ],
   "source": [
    "# Extract the 'People Killed' column for each zone\n",
    "Northern = data[data['Zones'] == 'Northern']['People Killed']\n",
    "Central = data[data['Zones'] == 'Central']['People Killed']\n",
    "Southern = data[data['Zones'] == 'Southern']['People Killed']\n",
    "\n",
    "# Perform the one-way ANOVA test\n",
    "f_statistic, p_value1 = f_oneway(Northern, Central, Southern)\n",
    "\n",
    "print(\"F-statistic:\", f_statistic)\n",
    "print(\"p-value:\", p_value1)"
   ]
  },
  {
   "cell_type": "code",
   "execution_count": 10,
   "metadata": {},
   "outputs": [
    {
     "name": "stdout",
     "output_type": "stream",
     "text": [
      "Chi-square Test Results:\n",
      "Chi2 Statistic: [2. 2. 2. 2. 2. 2. 2. 2. 2. 2. 2. 2. 2. 2. 2. 2. 2. 2. 2. 2. 2.]\n",
      "p-value: [0.36787944 0.36787944 0.36787944 0.36787944 0.36787944 0.36787944\n",
      " 0.36787944 0.36787944 0.36787944 0.36787944 0.36787944 0.36787944\n",
      " 0.36787944 0.36787944 0.36787944 0.36787944 0.36787944 0.36787944\n",
      " 0.36787944 0.36787944 0.36787944]\n"
     ]
    }
   ],
   "source": [
    "zone_data = data[['Zones', 'Total Accidents_zones']]\n",
    "\n",
    "# Create contingency table\n",
    "contingency_table = pd.crosstab(zone_data['Zones'], zone_data['Total Accidents_zones'])\n",
    "\n",
    "# Perform Chi-square test\n",
    "chi2_stat, p_value = stats.chisquare(contingency_table)\n",
    "\n",
    "# Print the results\n",
    "print(\"Chi-square Test Results:\")\n",
    "print(\"Chi2 Statistic:\", chi2_stat)\n",
    "print(\"p-value:\", p_value)"
   ]
  },
  {
   "cell_type": "code",
   "execution_count": 11,
   "metadata": {},
   "outputs": [
    {
     "name": "stdout",
     "output_type": "stream",
     "text": [
      "Chi-square Test Results:\n",
      "Chi2 Statistic: [2. 2. 2. 2. 2. 2. 2. 2. 2. 2. 2. 2. 2. 2. 2. 2. 2. 2. 2. 2. 2.]\n",
      "p-value: [0.36787944 0.36787944 0.36787944 0.36787944 0.36787944 0.36787944\n",
      " 0.36787944 0.36787944 0.36787944 0.36787944 0.36787944 0.36787944\n",
      " 0.36787944 0.36787944 0.36787944 0.36787944 0.36787944 0.36787944\n",
      " 0.36787944 0.36787944 0.36787944]\n"
     ]
    }
   ],
   "source": [
    "zone_data1 = data[['Zones', 'People Killed']]\n",
    "\n",
    "# Create contingency table\n",
    "contingency_table = pd.crosstab(zone_data1['Zones'], zone_data1['People Killed'])\n",
    "\n",
    "# Perform the chi-square test for accidents\n",
    "chi2_killed, p_value_killed = stats.chisquare(contingency_table)\n",
    "\n",
    "# Print the results\n",
    "print(\"Chi-square Test Results:\")\n",
    "print(\"Chi2 Statistic:\", chi2_killed)\n",
    "print(\"p-value:\", p_value_killed)"
   ]
  },
  {
   "cell_type": "code",
   "execution_count": 12,
   "metadata": {},
   "outputs": [
    {
     "name": "stdout",
     "output_type": "stream",
     "text": [
      "         Seasons  Years  Total Accidents_seasons  People Killed     Zones  \\\n",
      "0    Pre-Monsoon   2016                    13313           1542  Northern   \n",
      "1        Monsoon   2016                    12826           1322   Central   \n",
      "2   Post-Monsoon   2016                    13281           1423  Southern   \n",
      "3    Pre-Monsoon   2017                    12979           1423  Northern   \n",
      "4        Monsoon   2017                    12268           1323   Central   \n",
      "5   Post-Monsoon   2017                    13233           1385  Southern   \n",
      "6    Pre-Monsoon   2018                    13799           1568  Northern   \n",
      "7        Monsoon   2018                    12441           1263   Central   \n",
      "8   Post-Monsoon   2018                    13941           1472  Southern   \n",
      "9    Pre-Monsoon   2019                    14257           1668  Northern   \n",
      "10       Monsoon   2019                    12608           1271   Central   \n",
      "11  Post-Monsoon   2019                    14246           1501  Southern   \n",
      "12   Pre-Monsoon   2020                     8392            868  Northern   \n",
      "13       Monsoon   2020                     7572            806   Central   \n",
      "14  Post-Monsoon   2020                    11893           1305  Southern   \n",
      "15   Pre-Monsoon   2021                    11089           1166  Northern   \n",
      "16       Monsoon   2021                     8788            912   Central   \n",
      "17  Post-Monsoon   2021                    13419           1351  Southern   \n",
      "18   Pre-Monsoon   2022                    14446           1549  Northern   \n",
      "19       Monsoon   2022                    13962           1329   Central   \n",
      "20  Post-Monsoon   2022                    15502           1439  Southern   \n",
      "\n",
      "    Years.1  Total Accidents_zones  People Killed.1  \n",
      "0      2016                  16989             2221  \n",
      "1      2016                  15656             1322  \n",
      "2      2016                   6775              744  \n",
      "3      2017                  17051             2139  \n",
      "4      2017                  14844             1239  \n",
      "5      2017                   6575              753  \n",
      "6      2018                  18129             1905  \n",
      "7      2018                  15237             1621  \n",
      "8      2018                   6815              777  \n",
      "9      2019                  18062             1953  \n",
      "10     2019                  15725             1666  \n",
      "11     2019                   7324              821  \n",
      "12     2020                  12717             1325  \n",
      "13     2020                  10286             1123  \n",
      "14     2020                   4874              531  \n",
      "15     2021                  14451             1482  \n",
      "16     2021                  12445             1349  \n",
      "17     2021                   6400              598  \n",
      "18     2022                  18344             1920  \n",
      "19     2022                  16723             1590  \n",
      "20     2022                   8843              807  \n"
     ]
    }
   ],
   "source": [
    "# Read the dataset into a DataFrame\n",
    "data1 = pd.read_excel(r'C:\\Users\\253933\\Downloads\\Accidents.xlsx', sheet_name='Sheet3')\n",
    "print(data1)"
   ]
  },
  {
   "cell_type": "code",
   "execution_count": 16,
   "metadata": {},
   "outputs": [
    {
     "name": "stdout",
     "output_type": "stream",
     "text": [
      "F-statistic: 2.115595166605169\n",
      "p-value: 0.14955057723557544\n"
     ]
    }
   ],
   "source": [
    "# Extract the 'Total Accidents' column for each season\n",
    "Northern = data1[data1['Zones'] == 'Northern']['Total Accidents_seasons']\n",
    "Central = data1[data1['Zones'] == 'Central']['Total Accidents_seasons']\n",
    "Southern = data1[data1['Zones'] == 'Southern']['Total Accidents_seasons']\n",
    "\n",
    "# Perform the one-way ANOVA test\n",
    "f_statistic, p_value = f_oneway(Northern, Central, Southern)\n",
    "\n",
    "print(\"F-statistic:\", f_statistic)\n",
    "print(\"p-value:\", p_value)"
   ]
  },
  {
   "cell_type": "code",
   "execution_count": 17,
   "metadata": {},
   "outputs": [
    {
     "name": "stdout",
     "output_type": "stream",
     "text": [
      "F-statistic: 2.768701952460221\n",
      "p-value: 0.08945930221523635\n"
     ]
    }
   ],
   "source": [
    "# Extract the 'People Killed' column for each season\n",
    "Northern = data1[data1['Zones'] == 'Northern']['People Killed']\n",
    "Central = data1[data1['Zones'] == 'Central']['People Killed']\n",
    "Southern = data1[data1['Zones'] == 'Southern']['People Killed']\n",
    "\n",
    "# Perform the one-way ANOVA test\n",
    "f_statistic, p_value = f_oneway(Northern, Central, Southern)\n",
    "\n",
    "print(\"F-statistic:\", f_statistic)\n",
    "print(\"p-value:\", p_value)"
   ]
  },
  {
   "cell_type": "code",
   "execution_count": 19,
   "metadata": {},
   "outputs": [
    {
     "name": "stdout",
     "output_type": "stream",
     "text": [
      "F-statistic: 49.81808292571853\n",
      "p-value: 4.598167601303175e-08\n"
     ]
    }
   ],
   "source": [
    "# Extract the 'Total Accidents' column for each season\n",
    "pre_monsoon = data1[data1['Seasons'] == 'Pre-Monsoon']['Total Accidents_zones']\n",
    "monsoon = data1[data1['Seasons'] == 'Monsoon']['Total Accidents_zones']\n",
    "post_monsoon = data1[data1['Seasons'] == 'Post-Monsoon']['Total Accidents_zones']\n",
    "\n",
    "# Perform the one-way ANOVA test\n",
    "f_statistic, p_value = f_oneway(pre_monsoon, monsoon, post_monsoon)\n",
    "\n",
    "print(\"F-statistic:\", f_statistic)\n",
    "print(\"p-value:\", p_value)"
   ]
  },
  {
   "cell_type": "code",
   "execution_count": 20,
   "metadata": {},
   "outputs": [
    {
     "name": "stdout",
     "output_type": "stream",
     "text": [
      "F-statistic: 41.43410525184919\n",
      "p-value: 1.83511675725829e-07\n"
     ]
    }
   ],
   "source": [
    "# Extract the 'People Killed' column for each season\n",
    "pre_monsoon = data1[data1['Seasons'] == 'Pre-Monsoon']['People Killed.1']\n",
    "monsoon = data1[data1['Seasons'] == 'Monsoon']['People Killed.1']\n",
    "post_monsoon = data1[data1['Seasons'] == 'Post-Monsoon']['People Killed.1']\n",
    "\n",
    "# Perform the one-way ANOVA test\n",
    "f_statistic, p_value = f_oneway(pre_monsoon, monsoon, post_monsoon)\n",
    "\n",
    "print(\"F-statistic:\", f_statistic)\n",
    "print(\"p-value:\", p_value)"
   ]
  },
  {
   "cell_type": "code",
   "execution_count": null,
   "metadata": {},
   "outputs": [],
   "source": []
  }
 ],
 "metadata": {
  "kernelspec": {
   "display_name": "Python 3",
   "language": "python",
   "name": "python3"
  },
  "language_info": {
   "codemirror_mode": {
    "name": "ipython",
    "version": 3
   },
   "file_extension": ".py",
   "mimetype": "text/x-python",
   "name": "python",
   "nbconvert_exporter": "python",
   "pygments_lexer": "ipython3",
   "version": "3.7.0"
  }
 },
 "nbformat": 4,
 "nbformat_minor": 2
}
